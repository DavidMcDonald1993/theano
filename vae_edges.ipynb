{
 "cells": [
  {
   "cell_type": "code",
   "execution_count": 1,
   "metadata": {
    "collapsed": false
   },
   "outputs": [
    {
     "name": "stderr",
     "output_type": "stream",
     "text": [
      "Using Theano backend.\n",
      "Using cuDNN version 5110 on context None\n",
      "Mapped name None to device cuda: GeForce GT 650M (0000:01:00.0)\n"
     ]
    }
   ],
   "source": [
    "%matplotlib inline\n",
    "\n",
    "import numpy as np\n",
    "import matplotlib.pyplot as plt\n",
    "from scipy.stats import norm\n",
    "\n",
    "from keras.layers import Input, Dense, Lambda, Reshape, Flatten, RepeatVector\n",
    "from keras.layers.convolutional import Conv2D, UpSampling2D\n",
    "from keras.layers.pooling import MaxPooling2D\n",
    "from keras.models import Model, Sequential\n",
    "from keras import backend as K\n",
    "from keras import objectives\n",
    "\n",
    "import networkx as nx\n",
    "from sklearn.metrics.pairwise import cosine_similarity"
   ]
  },
  {
   "cell_type": "code",
   "execution_count": 2,
   "metadata": {
    "collapsed": true
   },
   "outputs": [],
   "source": [
    "# use the sampled latent points to generate new latent points z in the latent space\n",
    "def sampling(args):\n",
    "    z_mean, z_log_var = args\n",
    "    epsilon = K.random_normal(shape=(latent_dim,), \n",
    "                              mean=0., stddev=epsilon_std)\n",
    "    return z_mean + K.exp(z_log_var / 2) * epsilon\n",
    "\n",
    "# custom loss function\n",
    "def vae_loss(x, x_decoded_mean):\n",
    "    \n",
    "    # cross entropy term (reconstruction error)\n",
    "    xent_loss = original_dim * objectives.binary_crossentropy(x, x_decoded_mean)\n",
    "#     xent_loss = original_dim * objectives.mean_squared_error(x, x_decoded_mean)\n",
    "    \n",
    "    # KL-divergence term (regularization term)\n",
    "    kl_loss = - 0.5 * K.mean(1 + z_log_var - K.square(z_mean) - K.exp(z_log_var), axis=-1)  \n",
    "    \n",
    "    # sum both terms\n",
    "    return xent_loss + kl_loss\n",
    "\n",
    "# apply all layers in a list\n",
    "def h_apply(h_l, x):\n",
    "    y = x\n",
    "    for h in h_l:\n",
    "        y = h(y)\n",
    "    return y"
   ]
  },
  {
   "cell_type": "code",
   "execution_count": 3,
   "metadata": {
    "collapsed": true
   },
   "outputs": [],
   "source": [
    "# G = nx.karate_club_graph()\n",
    "# G = nx.read_gml(\"dolphins_labelled.gml\")\n",
    "G = nx.read_gml(\"embedded_karate.gml\")\n",
    "# G = nx.read_gml(\"embedded_football.gml\")\n",
    "# G = nx.read_gml(\"embedded_yeast_uetz.gml\")\n",
    "# G = nx.read_gpickle(\"embedded_yeast_union.gpickle\")\n",
    "# G = nx.read_gpickle(\"embedded_yeast_reactome.gpickle\")\n",
    "# G = nx.read_gpickle(\"hierarchical_benchmark.gpickle\")\n",
    "G = max(nx.connected_component_subgraphs(G), key=len)"
   ]
  },
  {
   "cell_type": "code",
   "execution_count": 4,
   "metadata": {
    "collapsed": false
   },
   "outputs": [],
   "source": [
    "# edge matrix\n",
    "nnodes = nx.number_of_nodes(G)\n",
    "nedges = nx.number_of_edges(G)\n",
    "\n",
    "E = np.zeros((nedges, nnodes))\n",
    "\n",
    "i = 0\n",
    "for e in G.edges():\n",
    "    E[i, e] = 1\n",
    "    i += 1"
   ]
  },
  {
   "cell_type": "code",
   "execution_count": 5,
   "metadata": {
    "collapsed": false
   },
   "outputs": [
    {
     "data": {
      "text/plain": [
       "array([[ 1.,  1.,  0., ...,  0.,  0.,  0.],\n",
       "       [ 1.,  0.,  1., ...,  0.,  0.,  0.],\n",
       "       [ 1.,  0.,  0., ...,  0.,  0.,  0.],\n",
       "       ..., \n",
       "       [ 0.,  0.,  0., ...,  1.,  0.,  1.],\n",
       "       [ 0.,  0.,  0., ...,  1.,  1.,  0.],\n",
       "       [ 0.,  0.,  0., ...,  0.,  1.,  1.]])"
      ]
     },
     "execution_count": 5,
     "metadata": {},
     "output_type": "execute_result"
    }
   ],
   "source": [
    "E"
   ]
  },
  {
   "cell_type": "code",
   "execution_count": 6,
   "metadata": {
    "collapsed": true
   },
   "outputs": [],
   "source": [
    "num_edges, original_dim = E.shape\n",
    "batch_size = 50\n",
    "latent_dim = 2\n",
    "intermediate_dims = [256]\n",
    "epsilon_std = 1"
   ]
  },
  {
   "cell_type": "code",
   "execution_count": 7,
   "metadata": {
    "collapsed": false
   },
   "outputs": [],
   "source": [
    "x = Input(batch_shape=(batch_size, original_dim))\n",
    "\n",
    "h = []\n",
    "for i in range(len(intermediate_dims)):\n",
    "    h.append(Dense(intermediate_dims[i], activation='sigmoid'))\n",
    "\n",
    "z_mean = Dense(latent_dim)(h_apply(h, x))\n",
    "z_log_var = Dense(latent_dim)(h_apply(h, x))"
   ]
  },
  {
   "cell_type": "code",
   "execution_count": 8,
   "metadata": {
    "collapsed": false
   },
   "outputs": [],
   "source": [
    "# generate latent points (lambda function layer)\n",
    "z = Lambda(sampling, output_shape=(latent_dim,))([z_mean, z_log_var])"
   ]
  },
  {
   "cell_type": "code",
   "execution_count": 9,
   "metadata": {
    "collapsed": true
   },
   "outputs": [],
   "source": [
    "h_decoded = []\n",
    "for i in range(len(intermediate_dims)):\n",
    "    h_decoded.append(Dense(intermediate_dims[-1-i], activation='sigmoid'))\n",
    "\n",
    "# output layer\n",
    "h_decoded.append(Dense(original_dim, activation='sigmoid'))\n",
    "\n",
    "x_decoded_mean = h_apply(h_decoded, z)"
   ]
  },
  {
   "cell_type": "code",
   "execution_count": 10,
   "metadata": {
    "collapsed": true
   },
   "outputs": [],
   "source": [
    "# end-to-end autoencoder\n",
    "vae = Model(x, x_decoded_mean)\n",
    "\n",
    "# compile VAE model\n",
    "vae.compile(optimizer=\"rmsprop\", loss=vae_loss)"
   ]
  },
  {
   "cell_type": "code",
   "execution_count": 17,
   "metadata": {
    "collapsed": false
   },
   "outputs": [
    {
     "data": {
      "text/plain": [
       "<keras.callbacks.History at 0x7fdafcdc45d0>"
      ]
     },
     "execution_count": 17,
     "metadata": {},
     "output_type": "execute_result"
    }
   ],
   "source": [
    "# train model\n",
    "vae.fit(E, E,\n",
    "        shuffle=True,\n",
    "        epochs=10000,\n",
    "        batch_size=batch_size,\n",
    "        validation_split=0, verbose=False)"
   ]
  },
  {
   "cell_type": "code",
   "execution_count": 18,
   "metadata": {
    "collapsed": true
   },
   "outputs": [],
   "source": [
    "# build a model to project inputs on the latent space\n",
    "encoder = Model(x, z_mean)\n",
    "\n",
    "# display a 2D plot of the digit classes in the latent space\n",
    "E_encoded = encoder.predict(E, batch_size=batch_size)"
   ]
  },
  {
   "cell_type": "code",
   "execution_count": 19,
   "metadata": {
    "collapsed": false
   },
   "outputs": [],
   "source": [
    "assignments = nx.get_node_attributes(G, \"club\").values()\n",
    "\n",
    "c = []\n",
    "\n",
    "for e1, e2 in G.edges():\n",
    "    c1 = assignments[e1]\n",
    "    c2 = assignments[e2]\n",
    "    \n",
    "    if c1 == c2:\n",
    "        if c1 == \"Mr. Hi\":\n",
    "            c.append(\"b\")\n",
    "        else:\n",
    "            c.append(\"r\")\n",
    "    else:\n",
    "        c.append(\"g\")"
   ]
  },
  {
   "cell_type": "code",
   "execution_count": 20,
   "metadata": {
    "collapsed": false
   },
   "outputs": [
    {
     "data": {
      "text/plain": [
       "<matplotlib.patches.Circle at 0x7fdaf1a43710>"
      ]
     },
     "execution_count": 20,
     "metadata": {},
     "output_type": "execute_result"
    },
    {
     "data": {
      "image/png": "[encoded data removed]",
      "text/plain": [
       "<matplotlib.figure.Figure at 0x7fdaf1aaad50>"
      ]
     },
     "metadata": {},
     "output_type": "display_data"
    }
   ],
   "source": [
    "plt.figure(figsize=(15, 15))\n",
    "\n",
    "# for label, i, j in zip(A.sum(axis=1), S_encoded[:, 0], S_encoded[:, 1]):\n",
    "#     plt.annotate(\n",
    "#         label,\n",
    "#         xy=(i, j), xytext=(-20, 20),\n",
    "#         textcoords='offset points', ha='right', va='bottom',\n",
    "#         bbox=dict(boxstyle='round,pad=0.5', fc='yellow', alpha=0.5),\n",
    "#         arrowprops=dict(arrowstyle = '->', connectionstyle='arc3,rad=0'))\n",
    "\n",
    "# nodes = np.array(G.nodes())\n",
    "# for n1, n2 in G.edges():\n",
    "#     i, = np.where(nodes == n1)\n",
    "#     j, = np.where(nodes == n2)\n",
    "#     plt.plot(S_encoded[(i, j), 0], S_encoded[(i, j), 1], c=\"k\", \n",
    "# #              linewidth = 3 * np.exp(- np.linalg.norm(S_encoded[i] - S_encoded[j]) ** 2 / (2 * 0.5 ** 2) ))\n",
    "#              linewidth = 0.3)\n",
    "    \n",
    "plt.scatter(E_encoded[:, 0], \n",
    "        E_encoded[:, 1], \n",
    "            c = c,\n",
    "#             c=\"k\",\n",
    "           )\n",
    "\n",
    "c1 = plt.Circle((0,0), radius=1, fill=False)\n",
    "c2 = plt.Circle((0,0), radius=2, fill=False)\n",
    "c3 = plt.Circle((0,0), radius=3, fill=False)\n",
    "\n",
    "ax = plt.gca()\n",
    "ax.add_artist(c1)\n",
    "ax.add_artist(c2)\n",
    "ax.add_artist(c3)"
   ]
  },
  {
   "cell_type": "code",
   "execution_count": 21,
   "metadata": {
    "collapsed": true
   },
   "outputs": [],
   "source": [
    "# generator, from latent space to reconstructed inputs\n",
    "decoder_input = Input(shape=(latent_dim,))\n",
    "# _h_decoded = decoder_h(decoder_input)\n",
    "# _x_decoded_mean = decoder_mean(_h_decoded)\n",
    "_x_decoded_mean = h_apply(h_decoded, decoder_input)\n",
    "generator = Model(decoder_input, _x_decoded_mean)"
   ]
  },
  {
   "cell_type": "code",
   "execution_count": 24,
   "metadata": {
    "collapsed": false
   },
   "outputs": [],
   "source": [
    "E_decoded = generator.predict(E_encoded)\n",
    "E_decoded[E_decoded < 1e-1] = 0"
   ]
  },
  {
   "cell_type": "code",
   "execution_count": 29,
   "metadata": {
    "collapsed": true
   },
   "outputs": [],
   "source": [
    "num_samples = 100000\n",
    "# generate sample according to prior\n",
    "z_samples = np.random.normal(loc=0, scale=1, size=(num_samples, latent_dim))\n",
    "# print z_sample\n",
    "generated_edges = generator.predict(z_samples)\n",
    "# plt.imshow(generated_nodes, cmap=\"hot\")\n",
    "generated_edges[generated_edges < 1e-1] = 0"
   ]
  },
  {
   "cell_type": "code",
   "execution_count": 38,
   "metadata": {
    "collapsed": false
   },
   "outputs": [
    {
     "data": {
      "text/plain": [
       "[(u'Mr. Hi', 0.0),\n",
       " (u'Mr. Hi', 0.0),\n",
       " (u'Mr. Hi', 0.0),\n",
       " (u'Mr. Hi', 0.0),\n",
       " (u'Mr. Hi', 0.0),\n",
       " (u'Mr. Hi', 0.0),\n",
       " (u'Mr. Hi', 0.0),\n",
       " (u'Mr. Hi', 0.0),\n",
       " (u'Mr. Hi', 0.0),\n",
       " (u'Officer', 0.0),\n",
       " (u'Mr. Hi', 0.0),\n",
       " (u'Mr. Hi', 0.0),\n",
       " (u'Mr. Hi', 0.0),\n",
       " (u'Mr. Hi', 0.0),\n",
       " (u'Officer', 0.0),\n",
       " (u'Officer', 0.0),\n",
       " (u'Mr. Hi', 0.0),\n",
       " (u'Mr. Hi', 0.0),\n",
       " (u'Officer', 0.0),\n",
       " (u'Mr. Hi', 0.0),\n",
       " (u'Officer', 0.0),\n",
       " (u'Mr. Hi', 0.0),\n",
       " (u'Officer', 0.0),\n",
       " (u'Officer', 0.42956689),\n",
       " (u'Officer', 0.0),\n",
       " (u'Officer', 0.0),\n",
       " (u'Officer', 0.0),\n",
       " (u'Officer', 0.63944179),\n",
       " (u'Officer', 0.0),\n",
       " (u'Officer', 0.0),\n",
       " (u'Officer', 0.0),\n",
       " (u'Officer', 0.0),\n",
       " (u'Officer', 0.0),\n",
       " (u'Officer', 0.99911982)]"
      ]
     },
     "execution_count": 38,
     "metadata": {},
     "output_type": "execute_result"
    }
   ],
   "source": [
    "zip(assignments, generated_edges[15])"
   ]
  },
  {
   "cell_type": "code",
   "execution_count": 39,
   "metadata": {
    "collapsed": true
   },
   "outputs": [],
   "source": [
    "consensus = np.zeros((nx.number_of_nodes(G), nx.number_of_nodes(G)))"
   ]
  },
  {
   "cell_type": "code",
   "execution_count": 40,
   "metadata": {
    "collapsed": false
   },
   "outputs": [],
   "source": [
    "for edge in generated_edges:\n",
    "    \n",
    "    connected_nodes = np.where(edge > 0)[0]\n",
    "    \n",
    "    for n1 in connected_nodes:\n",
    "        \n",
    "        for n2 in connected_nodes[connected_nodes != n1]:\n",
    "            \n",
    "            consensus[n1, n2] += 1\n",
    "\n",
    "consensus /= consensus.max()"
   ]
  },
  {
   "cell_type": "code",
   "execution_count": 41,
   "metadata": {
    "collapsed": false
   },
   "outputs": [
    {
     "data": {
      "text/plain": [
       "[(u'Mr. Hi', 0.36745616032794354, 1),\n",
       " (u'Mr. Hi', 0.0, 0),\n",
       " (u'Mr. Hi', 0.0, 0),\n",
       " (u'Mr. Hi', 0.0, 0),\n",
       " (u'Mr. Hi', 0.37998178091550899, 0),\n",
       " (u'Mr. Hi', 0.0, 0),\n",
       " (u'Mr. Hi', 0.33739467091778635, 1),\n",
       " (u'Mr. Hi', 0.0, 0),\n",
       " (u'Mr. Hi', 0.0075153723525392853, 0),\n",
       " (u'Officer', 0.0, 0),\n",
       " (u'Mr. Hi', 0.25483944431792305, 1),\n",
       " (u'Mr. Hi', 0.020496470052379867, 0),\n",
       " (u'Mr. Hi', 0.0, 0),\n",
       " (u'Mr. Hi', 0.0, 0),\n",
       " (u'Officer', 0.0, 0),\n",
       " (u'Officer', 0.0, 0),\n",
       " (u'Mr. Hi', 0.14837166932361648, 1),\n",
       " (u'Mr. Hi', 0.0, 0),\n",
       " (u'Officer', 0.0, 0),\n",
       " (u'Mr. Hi', 0.0, 0),\n",
       " (u'Officer', 0.0, 0),\n",
       " (u'Mr. Hi', 0.08950125256205875, 0),\n",
       " (u'Officer', 0.0, 0),\n",
       " (u'Officer', 0.0, 0),\n",
       " (u'Officer', 0.058642678205420178, 0),\n",
       " (u'Officer', 0.042587109997722618, 0),\n",
       " (u'Officer', 0.0, 0),\n",
       " (u'Officer', 0.0, 0),\n",
       " (u'Officer', 0.0, 0),\n",
       " (u'Officer', 0.0, 0),\n",
       " (u'Officer', 0.0, 0),\n",
       " (u'Officer', 0.074356638578911408, 0),\n",
       " (u'Officer', 0.0, 0),\n",
       " (u'Officer', 0.0, 0)]"
      ]
     },
     "execution_count": 41,
     "metadata": {},
     "output_type": "execute_result"
    }
   ],
   "source": [
    "zip(assignments, consensus[5], np.array(nx.adjacency_matrix(G).todense())[5])"
   ]
  },
  {
   "cell_type": "code",
   "execution_count": null,
   "metadata": {
    "collapsed": true
   },
   "outputs": [],
   "source": []
  }
 ],
 "metadata": {
  "anaconda-cloud": {},
  "kernelspec": {
   "display_name": "Python [default]",
   "language": "python",
   "name": "python2"
  },
  "language_info": {
   "codemirror_mode": {
    "name": "ipython",
    "version": 2
   },
   "file_extension": ".py",
   "mimetype": "text/x-python",
   "name": "python",
   "nbconvert_exporter": "python",
   "pygments_lexer": "ipython2",
   "version": "2.7.13"
  }
 },
 "nbformat": 4,
 "nbformat_minor": 2
}
