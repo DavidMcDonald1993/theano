{
 "cells": [
  {
   "cell_type": "code",
   "execution_count": 133,
   "metadata": {
    "collapsed": false
   },
   "outputs": [],
   "source": [
    "%matplotlib inline\n",
    "\n",
    "import numpy as np\n",
    "import matplotlib.pyplot as plt\n",
    "from scipy.stats import norm\n",
    "\n",
    "from keras.layers import Input, Dense, Lambda, Reshape, Flatten, RepeatVector\n",
    "from keras.layers.convolutional import Conv2D, UpSampling2D\n",
    "from keras.layers.pooling import MaxPooling2D\n",
    "from keras.models import Model, Sequential\n",
    "from keras import backend as K\n",
    "from keras import objectives\n",
    "\n",
    "import networkx as nx\n",
    "from sklearn.metrics.pairwise import cosine_similarity\n",
    "from sklearn.metrics.pairwise import euclidean_distances"
   ]
  },
  {
   "cell_type": "code",
   "execution_count": 2,
   "metadata": {
    "collapsed": true
   },
   "outputs": [],
   "source": [
    "# use the sampled latent points to generate new latent points z in the latent space\n",
    "def sampling(args):\n",
    "    z_mean, z_log_var = args\n",
    "    epsilon = K.random_normal(shape=(latent_dim,), \n",
    "                              mean=0., stddev=epsilon_std)\n",
    "    return z_mean + K.exp(z_log_var / 2) * epsilon\n",
    "\n",
    "# custom loss function\n",
    "def vae_loss(x, x_decoded_mean):\n",
    "    \n",
    "    # cross entropy term (reconstruction error)\n",
    "    xent_loss = original_dim * objectives.binary_crossentropy(x, x_decoded_mean)\n",
    "#     xent_loss = original_dim * objectives.mean_squared_error(x, x_decoded_mean)\n",
    "    \n",
    "    # KL-divergence term (regularization term)\n",
    "    kl_loss = - 0.5 * K.mean(1 + z_log_var - K.square(z_mean) - K.exp(z_log_var), axis=-1)  \n",
    "    \n",
    "    # sum both terms\n",
    "    return xent_loss + kl_loss\n",
    "\n",
    "# apply all layers in a list\n",
    "def h_apply(h_l, x):\n",
    "    y = x\n",
    "    for h in h_l:\n",
    "        y = h(y)\n",
    "    return y"
   ]
  },
  {
   "cell_type": "code",
   "execution_count": 3,
   "metadata": {
    "collapsed": true
   },
   "outputs": [],
   "source": [
    "# G = nx.karate_club_graph()\n",
    "# G = nx.read_gml(\"dolphins_labelled.gml\")\n",
    "G = nx.read_gml(\"embedded_karate.gml\")\n",
    "# G = nx.read_gml(\"embedded_football.gml\")\n",
    "# G = nx.read_gml(\"embedded_yeast_uetz.gml\")\n",
    "# G = nx.read_gpickle(\"embedded_yeast_union.gpickle\")\n",
    "# G = nx.read_gpickle(\"embedded_yeast_reactome.gpickle\")\n",
    "# G = nx.read_gpickle(\"hierarchical_benchmark.gpickle\")\n",
    "G = max(nx.connected_component_subgraphs(G), key=len)"
   ]
  },
  {
   "cell_type": "code",
   "execution_count": 154,
   "metadata": {
    "collapsed": false
   },
   "outputs": [],
   "source": [
    "N = nx.number_of_nodes(G)\n",
    "E = nx.number_of_edges(G)\n",
    "\n",
    "A = np.array(nx.adjacency_matrix(G).todense())\n",
    "D = np.diag(A.sum(axis=1))\n",
    "\n",
    "loop = 0.5\n",
    "\n",
    "W = A.dot(np.diag(1./D.diagonal()))\n",
    "W = loop * np.identity(N) + (1 - loop) * W"
   ]
  },
  {
   "cell_type": "code",
   "execution_count": 7,
   "metadata": {
    "collapsed": true
   },
   "outputs": [],
   "source": [
    "# 1 hot vector\n",
    "P = np.append(np.ones(1), np.zeros(N - 1))"
   ]
  },
  {
   "cell_type": "code",
   "execution_count": 12,
   "metadata": {
    "collapsed": false
   },
   "outputs": [
    {
     "data": {
      "text/plain": [
       "array([ 0.1025641 ,  0.05769231,  0.06410257,  0.03846154,  0.01923077,\n",
       "        0.02564103,  0.02564103,  0.02564103,  0.03205128,  0.01282051,\n",
       "        0.01923077,  0.00641026,  0.01282051,  0.03205128,  0.01282051,\n",
       "        0.01282051,  0.01282051,  0.01282051,  0.01282051,  0.01923077,\n",
       "        0.01282051,  0.01282051,  0.01282051,  0.03205128,  0.01923077,\n",
       "        0.01923077,  0.01282051,  0.02564103,  0.01923077,  0.02564103,\n",
       "        0.02564103,  0.03846154,  0.07692308,  0.10897436], dtype=float32)"
      ]
     },
     "execution_count": 12,
     "metadata": {},
     "output_type": "execute_result"
    }
   ],
   "source": [
    "A.sum(axis=1, dtype=np.float32) / A.sum(axis=1).sum()"
   ]
  },
  {
   "cell_type": "code",
   "execution_count": 155,
   "metadata": {
    "collapsed": false
   },
   "outputs": [],
   "source": [
    "W_ = np.linalg.matrix_power(W, 5)"
   ]
  },
  {
   "cell_type": "code",
   "execution_count": 156,
   "metadata": {
    "collapsed": false
   },
   "outputs": [],
   "source": [
    "n = 2\n",
    "\n",
    "mu_1, mu_2 = -np.ones(n), np.ones(n)\n",
    "sigma = np.ones(n)\n",
    "\n",
    "scores = np.random.normal(size=(N, n),\n",
    "          loc=[mu_1 if k==\"Mr. Hi\" else mu_2 for k in nx.get_node_attributes(G, \"club\").values()], scale=sigma)"
   ]
  },
  {
   "cell_type": "code",
   "execution_count": 157,
   "metadata": {
    "collapsed": true
   },
   "outputs": [],
   "source": [
    "scores = np.random.normal(size=(N, n))"
   ]
  },
  {
   "cell_type": "code",
   "execution_count": 159,
   "metadata": {
    "collapsed": false
   },
   "outputs": [
    {
     "data": {
      "text/plain": [
       "<matplotlib.collections.PathCollection at 0x7f0675d120d0>"
      ]
     },
     "execution_count": 159,
     "metadata": {},
     "output_type": "execute_result"
    },
    {
     "data": {
      "image/png": "[encoded data removed]",
      "text/plain": [
       "<matplotlib.figure.Figure at 0x7f0675de1bd0>"
      ]
     },
     "metadata": {},
     "output_type": "display_data"
    }
   ],
   "source": [
    "plt.figure(figsize=(15, 15))\n",
    "for label, i, j in zip(G.nodes(), W_.dot(scores)[:,0], W_.dot(scores)[:, 1]):\n",
    "    plt.annotate(\n",
    "        label,\n",
    "        xy=(i, j), xytext=(-20, 20),\n",
    "        textcoords='offset points', ha='right', va='bottom',\n",
    "        bbox=dict(boxstyle='round,pad=0.5', fc='yellow', alpha=0.5),\n",
    "        arrowprops=dict(arrowstyle = '->', connectionstyle='arc3,rad=0'))\n",
    "    \n",
    "plt.scatter(W_.dot(scores)[:,0], W_.dot(scores)[:,1], \n",
    "            c = [\"b\" if k == \"Mr. Hi\" else \"r\" for k in nx.get_node_attributes(G, \"club\").values()])"
   ]
  },
  {
   "cell_type": "code",
   "execution_count": 116,
   "metadata": {
    "collapsed": false
   },
   "outputs": [
    {
     "data": {
      "text/plain": [
       "array([[ -1.47018401e+01,  -1.17545691e+01,  -1.18754314e+01,\n",
       "         -1.73769914e+01,  -1.45324838e+01,  -1.74883635e+01,\n",
       "         -1.44508541e+01,  -8.97619284e+00,  -1.92389323e+01,\n",
       "         -1.21339368e+01],\n",
       "       [ -7.58090082e+00,  -7.34264327e+00,  -3.02296974e+00,\n",
       "         -1.13109347e+01,  -5.30787529e+00,  -6.68222429e+00,\n",
       "         -9.00418939e+00,  -4.21286164e+00,  -1.05331343e+01,\n",
       "         -6.33305829e+00],\n",
       "       [ -7.10737233e+00,  -3.22165725e+00,  -1.08103818e+00,\n",
       "         -6.32768191e+00,  -1.45477598e+00,   2.16905414e+00,\n",
       "         -2.94814389e+00,  -3.43266672e+00,  -1.13133509e+00,\n",
       "         -2.03225371e+00],\n",
       "       [ -4.89688933e+00,  -6.59574126e+00,  -5.92820884e+00,\n",
       "         -9.76969675e+00,  -4.43328555e+00,  -4.21366314e+00,\n",
       "         -6.47528779e+00,  -4.31325555e+00,  -8.49529048e+00,\n",
       "         -2.27607019e+00],\n",
       "       [ -2.30514599e+00,  -2.86167026e+00,  -2.03835835e+00,\n",
       "         -2.86597604e+00,  -1.58888035e+00,  -1.96245053e+00,\n",
       "         -3.51378568e+00,  -4.82837016e+00,  -8.34577539e-01,\n",
       "         -3.55411199e+00],\n",
       "       [ -3.60629847e+00,  -4.50587326e+00,  -3.85734651e+00,\n",
       "         -3.74866156e+00,  -3.96990229e+00,  -2.10403763e+00,\n",
       "         -5.92845109e+00,  -5.43701522e+00,  -5.43241860e-01,\n",
       "         -4.99851785e+00],\n",
       "       [ -3.67295701e+00,  -6.28692961e+00,  -5.28957846e+00,\n",
       "         -5.08204715e+00,  -7.78358956e+00,  -1.41162580e+00,\n",
       "         -4.20702444e+00,  -3.96448770e+00,  -1.61569917e+00,\n",
       "         -4.43679798e+00],\n",
       "       [ -7.35207156e+00,  -5.35919670e+00,  -2.38675596e+00,\n",
       "         -5.44576697e+00,  -5.34288368e-01,   7.81525719e-01,\n",
       "         -2.85935924e+00,  -2.26471977e+00,  -3.77488261e+00,\n",
       "         -1.90301911e+00],\n",
       "       [ -1.02593918e+00,  -1.55940038e+00,   2.03672815e+00,\n",
       "          2.34667688e-01,   3.09333231e+00,   4.90278043e+00,\n",
       "          2.36492130e+00,   8.16503625e-01,   1.38870190e+00,\n",
       "          2.52215133e+00],\n",
       "       [ -2.15302219e+00,  -1.95198164e+00,   8.66047765e-01,\n",
       "         -7.65895276e-01,   1.40654242e+00,   2.91595178e+00,\n",
       "          2.40653080e+00,   1.53606960e+00,   1.33697926e-01,\n",
       "          8.68563594e-01],\n",
       "       [ -2.37180453e+00,  -4.64272660e+00,  -3.47059030e+00,\n",
       "         -4.19936163e+00,  -5.40256762e+00,  -1.27003870e+00,\n",
       "         -1.79235903e+00,  -3.35584264e+00,  -1.90703485e+00,\n",
       "         -2.99239212e+00],\n",
       "       [ -5.23352626e-01,  -1.52599016e+00,  -9.09456432e-01,\n",
       "         -1.18479441e+00,  -1.37121669e-02,   1.16311411e+00,\n",
       "         -4.99137456e-01,  -2.33604885e+00,  -1.57390800e-01,\n",
       "         -3.48597648e-01],\n",
       "       [ -3.72986755e+00,  -2.63168671e+00,  -1.35894400e+00,\n",
       "         -2.28600104e+00,   1.21930275e-01,   9.71931490e-01,\n",
       "         -6.64476124e-01,  -3.33184145e+00,  -1.09631810e+00,\n",
       "         -2.34729252e+00],\n",
       "       [ -7.08006817e+00,  -5.49885621e+00,  -9.77673564e-01,\n",
       "         -3.57987270e+00,  -5.85626271e-01,   2.31264846e+00,\n",
       "          9.96926470e-02,  -1.07608311e+00,  -3.47392165e+00,\n",
       "         -1.78258575e+00],\n",
       "       [  1.57317467e+00,   4.26702574e-01,   1.73608584e+00,\n",
       "          2.59988504e+00,   1.02672159e+00,   3.70154074e+00,\n",
       "          3.98658255e+00,   1.57246443e+00,   1.92348171e+00,\n",
       "          2.91376161e+00],\n",
       "       [  1.57317467e+00,   4.26702574e-01,   1.73608584e+00,\n",
       "          2.59988504e+00,   1.02672159e+00,   3.70154074e+00,\n",
       "          3.98658255e+00,   1.57246443e+00,   1.92348171e+00,\n",
       "          2.91376161e+00],\n",
       "       [ -1.10678986e+00,  -2.32527222e+00,  -9.75762078e-01,\n",
       "         -2.36331706e+00,  -2.05018157e+00,  -3.39611199e+00,\n",
       "         -5.55954897e-01,  -5.70530456e-01,  -1.31838766e+00,\n",
       "         -2.55185609e+00],\n",
       "       [ -1.72053106e+00,  -2.44117802e+00,  -1.39423376e+00,\n",
       "         -1.71277079e+00,  -2.12781113e+00,  -4.12120705e-01,\n",
       "         -2.14149949e+00,  -1.61636011e+00,  -2.66869228e+00,\n",
       "         -6.52454472e-01],\n",
       "       [  1.57317467e+00,   4.26702574e-01,   1.73608584e+00,\n",
       "          2.59988504e+00,   1.02672159e+00,   3.70154074e+00,\n",
       "          3.98658255e+00,   1.57246443e+00,   1.92348171e+00,\n",
       "          2.91376161e+00],\n",
       "       [ -1.44852767e+00,  -2.58083752e+00,   1.48486307e-02,\n",
       "          1.53123484e-01,  -2.17914903e+00,   1.11900204e+00,\n",
       "          8.17552397e-01,  -4.27723452e-01,  -2.36773132e+00,\n",
       "         -5.32021115e-01],\n",
       "       [  1.57317467e+00,   4.26702574e-01,   1.73608584e+00,\n",
       "          2.59988504e+00,   1.02672159e+00,   3.70154074e+00,\n",
       "          3.98658255e+00,   1.57246443e+00,   1.92348171e+00,\n",
       "          2.91376161e+00],\n",
       "       [ -1.72053106e+00,  -2.44117802e+00,  -1.39423376e+00,\n",
       "         -1.71277079e+00,  -2.12781113e+00,  -4.12120705e-01,\n",
       "         -2.14149949e+00,  -1.61636011e+00,  -2.66869228e+00,\n",
       "         -6.52454472e-01],\n",
       "       [  1.57317467e+00,   4.26702574e-01,   1.73608584e+00,\n",
       "          2.59988504e+00,   1.02672159e+00,   3.70154074e+00,\n",
       "          3.98658255e+00,   1.57246443e+00,   1.92348171e+00,\n",
       "          2.91376161e+00],\n",
       "       [ -6.02379655e-01,   9.73654966e-01,   2.34057751e+00,\n",
       "          2.10092130e+00,   4.29052375e+00,   7.23556373e+00,\n",
       "          5.61515034e+00,   2.59591058e+00,   5.11341187e+00,\n",
       "          3.15218979e+00],\n",
       "       [ -1.38747353e+00,   1.14144050e+00,   1.72216993e+00,\n",
       "          2.46691898e+00,   4.78372672e+00,   2.00814057e+00,\n",
       "          9.40710610e-01,   4.18455573e+00,   1.90634543e+00,\n",
       "         -1.63350490e+00],\n",
       "       [  2.32067036e+00,   1.60504213e+00,   3.31110118e+00,\n",
       "          4.48961742e+00,   4.97577944e+00,   1.84159526e+00,\n",
       "          4.59722868e+00,   3.94959061e+00,   2.66536482e+00,\n",
       "          8.22445323e-01],\n",
       "       [ -2.13926906e-01,   7.87122331e-01,   1.68611984e+00,\n",
       "          1.78170486e+00,   1.37765583e+00,   2.88372780e+00,\n",
       "          5.00209249e+00,   5.75504638e-01,   1.60587836e+00,\n",
       "          1.23995567e+00],\n",
       "       [ -1.34502326e-01,  -1.86820946e+00,   2.78243324e+00,\n",
       "          8.42028835e-01,   3.43340357e+00,   4.93082440e+00,\n",
       "          5.64857606e+00,   2.93768264e+00,   2.77773007e+00,\n",
       "          2.44341968e+00],\n",
       "       [ -1.85087168e+00,  -4.30711693e-01,   2.26076347e+00,\n",
       "          2.11579803e+00,   4.35546071e+00,   2.74267442e+00,\n",
       "          3.76171422e+00,   4.08404716e+00,   1.55030607e-01,\n",
       "          1.16152829e-01],\n",
       "       [  3.93411225e+00,  -1.31443250e-01,   3.77697981e+00,\n",
       "          6.16947416e+00,   4.70267890e+00,   5.93529266e+00,\n",
       "          7.68867998e+00,   2.86425653e+00,   4.37748617e+00,\n",
       "          5.33567321e+00],\n",
       "       [  2.13222797e-01,  -5.68438893e-01,   6.85113003e-02,\n",
       "          2.67066445e-01,  -2.72578318e+00,   1.34017840e+00,\n",
       "          2.41800957e+00,  -1.00303909e-01,  -1.77788079e+00,\n",
       "          2.04482531e+00],\n",
       "       [  1.65582714e+00,  -4.11614365e-01,   1.77982073e+00,\n",
       "          1.75083893e+00,   5.33775804e+00,   7.04624483e+00,\n",
       "          3.21640261e+00,   1.33320293e+00,   5.60218531e+00,\n",
       "          5.62805322e+00],\n",
       "       [  3.27846881e+00,   4.95633446e+00,   8.69051671e+00,\n",
       "          6.26474617e+00,   1.27303072e+01,   6.96267794e+00,\n",
       "          1.12992344e+01,   3.16277633e+00,   7.79111726e+00,\n",
       "          4.61029875e+00],\n",
       "       [  3.63124987e+00,   7.25569471e+00,   1.15375883e+01,\n",
       "          9.14444029e+00,   1.93509577e+01,   8.95525402e+00,\n",
       "          8.14490827e+00,   4.31936885e+00,   1.17492891e+01,\n",
       "          8.07426582e+00]])"
      ]
     },
     "execution_count": 116,
     "metadata": {},
     "output_type": "execute_result"
    }
   ],
   "source": [
    "A.dot(scores)"
   ]
  },
  {
   "cell_type": "code",
   "execution_count": 35,
   "metadata": {
    "collapsed": false
   },
   "outputs": [],
   "source": [
    "num_edges, original_dim = W_.shape\n",
    "batch_size = 50\n",
    "latent_dim = 2\n",
    "intermediate_dims = [32]\n",
    "epsilon_std = 1"
   ]
  },
  {
   "cell_type": "code",
   "execution_count": 81,
   "metadata": {
    "collapsed": false
   },
   "outputs": [],
   "source": [
    "x = Input(batch_shape=(batch_size, original_dim))\n",
    "\n",
    "h = []\n",
    "for i in range(len(intermediate_dims)):\n",
    "    h.append(Dense(intermediate_dims[i], activation='relu'))\n",
    "\n",
    "z_mean = Dense(latent_dim)(h_apply(h, x))\n",
    "z_log_var = Dense(latent_dim)(h_apply(h, x))"
   ]
  },
  {
   "cell_type": "code",
   "execution_count": 82,
   "metadata": {
    "collapsed": false
   },
   "outputs": [],
   "source": [
    "# generate latent points (lambda function layer)\n",
    "z = Lambda(sampling, output_shape=(latent_dim,))([z_mean, z_log_var])"
   ]
  },
  {
   "cell_type": "code",
   "execution_count": 83,
   "metadata": {
    "collapsed": true
   },
   "outputs": [],
   "source": [
    "h_decoded = []\n",
    "for i in range(len(intermediate_dims)):\n",
    "    h_decoded.append(Dense(intermediate_dims[-1-i], activation='relu'))\n",
    "\n",
    "# output layer\n",
    "h_decoded.append(Dense(original_dim, activation='relu'))\n",
    "\n",
    "x_decoded_mean = h_apply(h_decoded, z)"
   ]
  },
  {
   "cell_type": "code",
   "execution_count": 84,
   "metadata": {
    "collapsed": true
   },
   "outputs": [],
   "source": [
    "# end-to-end autoencoder\n",
    "vae = Model(x, x_decoded_mean)\n",
    "\n",
    "# compile VAE model\n",
    "vae.compile(optimizer=\"rmsprop\", loss=vae_loss)"
   ]
  },
  {
   "cell_type": "code",
   "execution_count": 89,
   "metadata": {
    "collapsed": false
   },
   "outputs": [
    {
     "data": {
      "text/plain": [
       "<keras.callbacks.History at 0x7f067936a0d0>"
      ]
     },
     "execution_count": 89,
     "metadata": {},
     "output_type": "execute_result"
    }
   ],
   "source": [
    "# train model\n",
    "vae.fit(W_, W_,\n",
    "        shuffle=True,\n",
    "        epochs=100000,\n",
    "        batch_size=batch_size,\n",
    "        validation_split=0, verbose=False)"
   ]
  },
  {
   "cell_type": "code",
   "execution_count": 90,
   "metadata": {
    "collapsed": false
   },
   "outputs": [],
   "source": [
    "# build a model to project inputs on the latent space\n",
    "encoder = Model(x, z_mean)\n",
    "\n",
    "# display a 2D plot of the digit classes in the latent space\n",
    "W_encoded = encoder.predict(W_, batch_size=batch_size)"
   ]
  },
  {
   "cell_type": "code",
   "execution_count": 91,
   "metadata": {
    "collapsed": false
   },
   "outputs": [],
   "source": [
    "assignments = nx.get_node_attributes(G, \"club\").values()\n",
    "\n",
    "c = []\n",
    "\n",
    "for e1, e2 in G.edges():\n",
    "    c1 = assignments[e1]\n",
    "    c2 = assignments[e2]\n",
    "    \n",
    "    if c1 == c2:\n",
    "        if c1 == \"Mr. Hi\":\n",
    "            c.append(\"b\")\n",
    "        else:\n",
    "            c.append(\"r\")\n",
    "    else:\n",
    "        c.append(\"g\")"
   ]
  },
  {
   "cell_type": "code",
   "execution_count": 92,
   "metadata": {
    "collapsed": false
   },
   "outputs": [
    {
     "data": {
      "text/plain": [
       "<matplotlib.patches.Circle at 0x7f0678de6610>"
      ]
     },
     "execution_count": 92,
     "metadata": {},
     "output_type": "execute_result"
    },
    {
     "data": {
      "image/png": "[encoded data removed]",
      "text/plain": [
       "<matplotlib.figure.Figure at 0x7f0678dc0810>"
      ]
     },
     "metadata": {},
     "output_type": "display_data"
    }
   ],
   "source": [
    "plt.figure(figsize=(15, 15))\n",
    "\n",
    "# for label, i, j in zip(A.sum(axis=1), S_encoded[:, 0], S_encoded[:, 1]):\n",
    "#     plt.annotate(\n",
    "#         label,\n",
    "#         xy=(i, j), xytext=(-20, 20),\n",
    "#         textcoords='offset points', ha='right', va='bottom',\n",
    "#         bbox=dict(boxstyle='round,pad=0.5', fc='yellow', alpha=0.5),\n",
    "#         arrowprops=dict(arrowstyle = '->', connectionstyle='arc3,rad=0'))\n",
    "\n",
    "# nodes = np.array(G.nodes())\n",
    "# for n1, n2 in G.edges():\n",
    "#     i, = np.where(nodes == n1)\n",
    "#     j, = np.where(nodes == n2)\n",
    "#     plt.plot(S_encoded[(i, j), 0], S_encoded[(i, j), 1], c=\"k\", \n",
    "# #              linewidth = 3 * np.exp(- np.linalg.norm(S_encoded[i] - S_encoded[j]) ** 2 / (2 * 0.5 ** 2) ))\n",
    "#              linewidth = 0.3)\n",
    "    \n",
    "plt.scatter(W_encoded[15:, 0], \n",
    "        W_encoded[15:, 1], \n",
    "            c = [\"b\" if v == \"Mr. Hi\" else \"r\" for v in nx.get_node_attributes(G, \"club\").values()],\n",
    "#             c=\"k\",\n",
    "           )\n",
    "\n",
    "c1 = plt.Circle((0,0), radius=1, fill=False)\n",
    "c2 = plt.Circle((0,0), radius=2, fill=False)\n",
    "c3 = plt.Circle((0,0), radius=3, fill=False)\n",
    "\n",
    "ax = plt.gca()\n",
    "ax.add_artist(c1)\n",
    "ax.add_artist(c2)\n",
    "ax.add_artist(c3)"
   ]
  },
  {
   "cell_type": "code",
   "execution_count": 21,
   "metadata": {
    "collapsed": true
   },
   "outputs": [],
   "source": [
    "# generator, from latent space to reconstructed inputs\n",
    "decoder_input = Input(shape=(latent_dim,))\n",
    "# _h_decoded = decoder_h(decoder_input)\n",
    "# _x_decoded_mean = decoder_mean(_h_decoded)\n",
    "_x_decoded_mean = h_apply(h_decoded, decoder_input)\n",
    "generator = Model(decoder_input, _x_decoded_mean)"
   ]
  },
  {
   "cell_type": "code",
   "execution_count": 24,
   "metadata": {
    "collapsed": false
   },
   "outputs": [],
   "source": [
    "E_decoded = generator.predict(E_encoded)\n",
    "E_decoded[E_decoded < 1e-1] = 0"
   ]
  },
  {
   "cell_type": "code",
   "execution_count": 29,
   "metadata": {
    "collapsed": true
   },
   "outputs": [],
   "source": [
    "num_samples = 100000\n",
    "# generate sample according to prior\n",
    "z_samples = np.random.normal(loc=0, scale=1, size=(num_samples, latent_dim))\n",
    "# print z_sample\n",
    "generated_edges = generator.predict(z_samples)\n",
    "# plt.imshow(generated_nodes, cmap=\"hot\")\n",
    "generated_edges[generated_edges < 1e-1] = 0"
   ]
  },
  {
   "cell_type": "code",
   "execution_count": 38,
   "metadata": {
    "collapsed": false
   },
   "outputs": [
    {
     "data": {
      "text/plain": [
       "[(u'Mr. Hi', 0.0),\n",
       " (u'Mr. Hi', 0.0),\n",
       " (u'Mr. Hi', 0.0),\n",
       " (u'Mr. Hi', 0.0),\n",
       " (u'Mr. Hi', 0.0),\n",
       " (u'Mr. Hi', 0.0),\n",
       " (u'Mr. Hi', 0.0),\n",
       " (u'Mr. Hi', 0.0),\n",
       " (u'Mr. Hi', 0.0),\n",
       " (u'Officer', 0.0),\n",
       " (u'Mr. Hi', 0.0),\n",
       " (u'Mr. Hi', 0.0),\n",
       " (u'Mr. Hi', 0.0),\n",
       " (u'Mr. Hi', 0.0),\n",
       " (u'Officer', 0.0),\n",
       " (u'Officer', 0.0),\n",
       " (u'Mr. Hi', 0.0),\n",
       " (u'Mr. Hi', 0.0),\n",
       " (u'Officer', 0.0),\n",
       " (u'Mr. Hi', 0.0),\n",
       " (u'Officer', 0.0),\n",
       " (u'Mr. Hi', 0.0),\n",
       " (u'Officer', 0.0),\n",
       " (u'Officer', 0.42956689),\n",
       " (u'Officer', 0.0),\n",
       " (u'Officer', 0.0),\n",
       " (u'Officer', 0.0),\n",
       " (u'Officer', 0.63944179),\n",
       " (u'Officer', 0.0),\n",
       " (u'Officer', 0.0),\n",
       " (u'Officer', 0.0),\n",
       " (u'Officer', 0.0),\n",
       " (u'Officer', 0.0),\n",
       " (u'Officer', 0.99911982)]"
      ]
     },
     "execution_count": 38,
     "metadata": {},
     "output_type": "execute_result"
    }
   ],
   "source": [
    "zip(assignments, generated_edges[15])"
   ]
  },
  {
   "cell_type": "code",
   "execution_count": 39,
   "metadata": {
    "collapsed": true
   },
   "outputs": [],
   "source": [
    "consensus = np.zeros((nx.number_of_nodes(G), nx.number_of_nodes(G)))"
   ]
  },
  {
   "cell_type": "code",
   "execution_count": 40,
   "metadata": {
    "collapsed": false
   },
   "outputs": [],
   "source": [
    "for edge in generated_edges:\n",
    "    \n",
    "    connected_nodes = np.where(edge > 0)[0]\n",
    "    \n",
    "    for n1 in connected_nodes:\n",
    "        \n",
    "        for n2 in connected_nodes[connected_nodes != n1]:\n",
    "            \n",
    "            consensus[n1, n2] += 1\n",
    "\n",
    "consensus /= consensus.max()"
   ]
  },
  {
   "cell_type": "code",
   "execution_count": 41,
   "metadata": {
    "collapsed": false
   },
   "outputs": [
    {
     "data": {
      "text/plain": [
       "[(u'Mr. Hi', 0.36745616032794354, 1),\n",
       " (u'Mr. Hi', 0.0, 0),\n",
       " (u'Mr. Hi', 0.0, 0),\n",
       " (u'Mr. Hi', 0.0, 0),\n",
       " (u'Mr. Hi', 0.37998178091550899, 0),\n",
       " (u'Mr. Hi', 0.0, 0),\n",
       " (u'Mr. Hi', 0.33739467091778635, 1),\n",
       " (u'Mr. Hi', 0.0, 0),\n",
       " (u'Mr. Hi', 0.0075153723525392853, 0),\n",
       " (u'Officer', 0.0, 0),\n",
       " (u'Mr. Hi', 0.25483944431792305, 1),\n",
       " (u'Mr. Hi', 0.020496470052379867, 0),\n",
       " (u'Mr. Hi', 0.0, 0),\n",
       " (u'Mr. Hi', 0.0, 0),\n",
       " (u'Officer', 0.0, 0),\n",
       " (u'Officer', 0.0, 0),\n",
       " (u'Mr. Hi', 0.14837166932361648, 1),\n",
       " (u'Mr. Hi', 0.0, 0),\n",
       " (u'Officer', 0.0, 0),\n",
       " (u'Mr. Hi', 0.0, 0),\n",
       " (u'Officer', 0.0, 0),\n",
       " (u'Mr. Hi', 0.08950125256205875, 0),\n",
       " (u'Officer', 0.0, 0),\n",
       " (u'Officer', 0.0, 0),\n",
       " (u'Officer', 0.058642678205420178, 0),\n",
       " (u'Officer', 0.042587109997722618, 0),\n",
       " (u'Officer', 0.0, 0),\n",
       " (u'Officer', 0.0, 0),\n",
       " (u'Officer', 0.0, 0),\n",
       " (u'Officer', 0.0, 0),\n",
       " (u'Officer', 0.0, 0),\n",
       " (u'Officer', 0.074356638578911408, 0),\n",
       " (u'Officer', 0.0, 0),\n",
       " (u'Officer', 0.0, 0)]"
      ]
     },
     "execution_count": 41,
     "metadata": {},
     "output_type": "execute_result"
    }
   ],
   "source": [
    "zip(assignments, consensus[5], np.array(nx.adjacency_matrix(G).todense())[5])"
   ]
  },
  {
   "cell_type": "code",
   "execution_count": null,
   "metadata": {
    "collapsed": true
   },
   "outputs": [],
   "source": []
  }
 ],
 "metadata": {
  "anaconda-cloud": {},
  "kernelspec": {
   "display_name": "Python [default]",
   "language": "python",
   "name": "python2"
  },
  "language_info": {
   "codemirror_mode": {
    "name": "ipython",
    "version": 2
   },
   "file_extension": ".py",
   "mimetype": "text/x-python",
   "name": "python",
   "nbconvert_exporter": "python",
   "pygments_lexer": "ipython2",
   "version": "2.7.13"
  }
 },
 "nbformat": 4,
 "nbformat_minor": 2
}
