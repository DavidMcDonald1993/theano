{
 "cells": [
  {
   "cell_type": "code",
   "execution_count": 72,
   "metadata": {
    "collapsed": false
   },
   "outputs": [],
   "source": [
    "from __future__ import division\n",
    "\n",
    "from time import time\n",
    "from sys import stdout\n",
    "import os\n",
    "\n",
    "import numpy as np\n",
    "import matplotlib.pyplot as plt\n",
    "from scipy.stats import norm\n",
    "\n",
    "import matplotlib.pyplot as plt\n",
    "\n",
    "from keras.layers import Input, Dense, Lambda, Dropout, Activation, Flatten, Reshape\n",
    "from keras.models import Model, Sequential\n",
    "from keras.layers.convolutional import Convolution2D, MaxPooling2D, UpSampling2D, Conv2D\n",
    "from keras.utils import np_utils\n",
    "from keras import backend as K\n",
    "from keras import objectives\n",
    "from keras.datasets import mnist, cifar100"
   ]
  },
  {
   "cell_type": "code",
   "execution_count": 110,
   "metadata": {
    "collapsed": true
   },
   "outputs": [],
   "source": [
    "class Generator:\n",
    "    \n",
    "    def __init__(self, input_size):\n",
    "        self.model = Sequential()\n",
    "#         self.model.add(Dense(hidden_size, input_shape = (input_size,), activation = \"elu\"))\n",
    "        self.model.add(Dense(64 * 7 * 7, input_shape=(input_size,), activation = \"tanh\"))\n",
    "        self.model.add(Reshape((64, 7, 7)))\n",
    "        self.model.add(Conv2D(filters=32, kernel_size=(5, 5), padding=\"same\", use_bias=True,\n",
    "                      activation=\"tanh\", data_format=\"channels_first\"))\n",
    "        self.model.add(UpSampling2D(size=(2, 2)))\n",
    "        self.model.add(Conv2D(filters=32, kernel_size=(5, 5), padding=\"same\", use_bias=True,\n",
    "                      activation=\"tanh\", data_format=\"channels_first\"))\n",
    "        self.model.add(UpSampling2D(size=(2, 2)))\n",
    "        self.model.add(Conv2D(filters=1, kernel_size=(5, 5), padding=\"same\", use_bias=True,\n",
    "                      activation=\"tanh\", data_format=\"channels_first\"))\n",
    "        \n",
    "    def get_model(self):\n",
    "        return self.model\n",
    "        \n",
    "    def compile_model(self, **kwargs):\n",
    "        self.model.compile(**kwargs)\n",
    "        \n",
    "    def predict(self, X):\n",
    "        return self.model.predict(X)\n",
    "        \n",
    "    def train_on_batch(self, **kwargs):\n",
    "        return self.model.train_on_batch(**kwargs)\n",
    "    \n",
    "    def save_weights(self, file):\n",
    "        self.model.save_weights(file)\n",
    "        \n",
    "    def load_weights(self, file):\n",
    "        self.model.load_weights(file)"
   ]
  },
  {
   "cell_type": "code",
   "execution_count": 117,
   "metadata": {
    "collapsed": false
   },
   "outputs": [],
   "source": [
    "class Discriminator:\n",
    "    \n",
    "    def __init__(self, output_size):\n",
    "        self.model = Sequential()\n",
    "        self.model.add(Conv2D(filters=32, kernel_size=5, padding=\"same\", use_bias=True,\n",
    "                                     input_shape=(1, img_rows, img_cols), activation=\"tanh\", data_format=\"channels_first\"))\n",
    "        self.model.add(MaxPooling2D(pool_size=(2, 2)))\n",
    "        self.model.add(Conv2D(filters=32, kernel_size=5, padding=\"same\", use_bias=True,\n",
    "                              activation=\"tanh\", data_format=\"channels_first\"))\n",
    "        self.model.add(MaxPooling2D(pool_size=(2, 2)))\n",
    "        self.model.add(Flatten())\n",
    "        self.model.add(Dense(64 * 7 * 7, activation=\"tanh\"))\n",
    "        self.model.add(Dense(output_size, activation = \"sigmoid\"))\n",
    "        \n",
    "    def get_model(self):\n",
    "        return self.model\n",
    "    \n",
    "    def compile_model(self, **kwargs):\n",
    "        self.model.compile(**kwargs)\n",
    "        \n",
    "    def predict(self, X):\n",
    "        return self.model.predict(X)\n",
    "        \n",
    "    def train_on_batch(self, X, Y):\n",
    "        return self.model.train_on_batch(X, Y)\n",
    "    \n",
    "    def trainable(self, trainable):\n",
    "        self.model.trainable = trainable\n",
    "    \n",
    "    def save_weights(self, file):\n",
    "        self.model.save_weights(file)\n",
    "        \n",
    "    def load_weights(self, file):\n",
    "        self.model.load_weights(file)"
   ]
  },
  {
   "cell_type": "code",
   "execution_count": 118,
   "metadata": {
    "collapsed": true
   },
   "outputs": [],
   "source": [
    "class GeneratorAndDiscriminator:\n",
    "    \n",
    "    def __init__(self, generator, discriminator):\n",
    "        self.model = Sequential()\n",
    "        self.model.add(generator)\n",
    "        self.model.add(discriminator)\n",
    "        \n",
    "    def get_model(self):\n",
    "        return self.model\n",
    "        \n",
    "    def compile_model(self, **kwargs):\n",
    "        self.model.compile(**kwargs)\n",
    "        \n",
    "    def predict(self, X):\n",
    "        return self.model.predict(X)\n",
    "        \n",
    "    def train_on_batch(self, X, Y):\n",
    "        return self.model.train_on_batch(X, Y)"
   ]
  },
  {
   "cell_type": "code",
   "execution_count": 119,
   "metadata": {
    "collapsed": false
   },
   "outputs": [],
   "source": [
    "def print_progress(epoch, epochs, minibatch, minibatches, start_time, g_loss, d_loss):\n",
    "    \n",
    "    bar_length = 50\n",
    "    \n",
    "    progress_bar = \"[\" + \"=\" * int(bar_length * epoch / epochs) + \\\n",
    "    \">\" + \"-\" * int(bar_length * (epochs - epoch) / epochs) + \"]\"\n",
    "    \n",
    "    time_taken = (time() - start_time)\n",
    "    \n",
    "    minibatches_complete = epoch * minibatches + minibatch + 1\n",
    "    total_minibatches = epochs * minibatches\n",
    "    \n",
    "    secs = np.ceil(time_taken * total_minibatches / minibatches_complete - time_taken)\n",
    "    hours = np.floor(secs / 3600)\n",
    "    secs -= hours * 3600\n",
    "    mins = np.floor(secs / 60)\n",
    "    secs -= mins * 60\n",
    "    \n",
    "    stdout.write(\"\\r\" + \"Epoch: {}/{} Minibatch: {}/{} \".format(epoch, epochs, minibatch, minibatches) + \n",
    "#                   progress_bar + \n",
    "                  \"{}% ETA: {}h {}m {}s \".format(int(epoch * 100 / epochs), int(hours), int(mins), int(secs)) + \n",
    "                 \"g_loss: {} \".format(g_loss[0]) + \"d_loss: {} \".format(d_loss[0]))\n",
    "    stdout.flush()"
   ]
  },
  {
   "cell_type": "code",
   "execution_count": 120,
   "metadata": {
    "collapsed": true
   },
   "outputs": [],
   "source": [
    "# Model params\n",
    "g_input_size = 100    # Random noise dimension coming into generator, per output vector\n",
    "d_output_size = 1    # Single dimension for 'real' vs. 'fake'\n",
    "\n",
    "# Data params\n",
    "nb_classes = 10\n",
    "img_rows, img_cols = 28, 28"
   ]
  },
  {
   "cell_type": "code",
   "execution_count": 121,
   "metadata": {
    "collapsed": false
   },
   "outputs": [],
   "source": [
    "##load mnist data\n",
    "(x_train, y_train), (x_test, y_test) = mnist.load_data()\n",
    "\n",
    "##reshape data\n",
    "x_train = x_train.reshape(x_train.shape[0], 1, img_rows, img_cols)\n",
    "x_test = x_test.reshape(x_test.shape[0], 1, img_rows, img_cols)\n",
    "x_train = x_train.astype('float32')\n",
    "x_test = x_test.astype('float32')\n",
    "\n",
    "#centre data on zero\n",
    "x_train = (x_train - 255 / 2) / (255 / 2)\n",
    "x_test = (x_test - 255 / 2) / (255 / 2)\n",
    "\n",
    "y_train = np_utils.to_categorical(y_train, nb_classes)\n",
    "y_test = np_utils.to_categorical(y_test, nb_classes)\n",
    "\n",
    "num_epochs = 100\n",
    "d_steps = 1 # 'k' steps in the original GAN paper. Can put the discriminator on higher training freq than generator\n",
    "g_steps = 1\n",
    "\n",
    "#parameter settings\n",
    "minibatch_size = 128\n",
    "\n",
    "num_patterns = len(x_train)\n",
    "num_minibatches = int(num_patterns / minibatch_size)"
   ]
  },
  {
   "cell_type": "code",
   "execution_count": 122,
   "metadata": {
    "collapsed": false
   },
   "outputs": [
    {
     "name": "stdout",
     "output_type": "stream",
     "text": [
      "Epoch: 99/100 Minibatch: 467/468 99% ETA: 0h 0m 0s g_loss: 0.200304612517 d_loss: 1.02418911457    \n",
      "DONE\n"
     ]
    }
   ],
   "source": [
    "#construct generator\n",
    "G = Generator(g_input_size)\n",
    "\n",
    "#construct discriminator\n",
    "D = Discriminator(d_output_size)\n",
    "\n",
    "##generator and discriminator\n",
    "GD = GeneratorAndDiscriminator(G.get_model(), D.get_model())\n",
    "\n",
    "##weight directory\n",
    "weight_dir = \"mnist_weights\"\n",
    "if not os.path.isdir(weight_dir):\n",
    "    os.mkdir(weight_dir)\n",
    "    \n",
    "##progress file\n",
    "loss_file = os.path.join(weight_dir, \"progress.txt\")\n",
    "\n",
    "##load weights\n",
    "G_weight_file = os.path.join(weight_dir, \"weights_G.h5\")\n",
    "D_weight_file = os.path.join(weight_dir, \"weights_D.h5\")\n",
    "\n",
    "if os.path.isfile(loss_file):\n",
    "    \n",
    "    loss = np.loadtxt(loss_file)\n",
    "    G.load_weights(G_weight_file)\n",
    "    D.load_weights(D_weight_file)\n",
    "    \n",
    "else:\n",
    "    \n",
    "    losses = np.zeros((num_epochs, 2))\n",
    "    \n",
    "#compile G\n",
    "G.compile_model(optimizer='adam', loss='binary_crossentropy', metrics=['accuracy'])\n",
    "\n",
    "#compile D\n",
    "D.compile_model(optimizer='adam', loss='binary_crossentropy', metrics=['accuracy'])\n",
    "\n",
    "#compile GD\n",
    "GD.compile_model(optimizer='adam', loss='binary_crossentropy', metrics=['accuracy'])\n",
    "\n",
    "start_time = time()\n",
    "\n",
    "for epoch in range(num_epochs):\n",
    "    \n",
    "    if losses[epoch].any():\n",
    "        continue\n",
    "        \n",
    "    for minibatch in range(num_minibatches):\n",
    "        \n",
    "#         '''\n",
    "#         train D\n",
    "#         '''\n",
    "\n",
    "        #get real data\n",
    "        d_real_data = x_train[minibatch * minibatch_size : (minibatch + 1) * minibatch_size]\n",
    "#         print d_real_data.shape\n",
    "        d_real_targets = np.ones(minibatch_size)\n",
    "\n",
    "        #generate fake data\n",
    "        d_gen_input = np.random.uniform(-1, 1, size=(minibatch_size, g_input_size))\n",
    "        d_fake_data = G.predict(d_gen_input)\n",
    "#         print d_fake_data.shape\n",
    "        d_fake_targets = np.zeros(minibatch_size)\n",
    "\n",
    "        #combine real and fake data\n",
    "        d_data = np.append(d_real_data, d_fake_data, axis=0)\n",
    "        d_targets = np.append(d_real_targets, d_fake_targets)\n",
    "\n",
    "        #fit discriminator\n",
    "        D.trainable(True)\n",
    "#         d_loss = D.train_on_batch(d_data, d_targets, shuffle=True, epochs=epochs,\n",
    "#               batch_size=1, validation_split=0.0, verbose=0)\n",
    "        d_loss = D.train_on_batch(d_data, d_targets)\n",
    "        \n",
    "#         '''\n",
    "#         train G\n",
    "#         '''\n",
    "        \n",
    "        #generate data from noise\n",
    "        g_gen_input = np.random.uniform(-1, 1, size=(minibatch_size, g_input_size))\n",
    "        \n",
    "        #target\n",
    "        g_targets = np.ones(minibatch_size)\n",
    "        \n",
    "        #fit generator\n",
    "        D.trainable(False)\n",
    "#         g_loss = GD.train_on_batch(gen_input, target, shuffle=True, epochs=epochs,\n",
    "#               batch_size=1, validation_split=0.0, verbose=0)\n",
    "        g_loss = GD.train_on_batch(g_gen_input, g_targets)\n",
    "        \n",
    "        print_progress(epoch, num_epochs, minibatch, num_minibatches, start_time, g_loss, d_loss)\n",
    "        \n",
    "    #save losses\n",
    "    losses[epoch] = [g_loss[0], d_loss[0]]\n",
    "    np.savetxt(loss_file, losses)\n",
    "\n",
    "    #save weights\n",
    "    G.save_weights(G_weight_file)\n",
    "    D.save_weights(D_weight_file)\n",
    "\n",
    "print \"\\nDONE\""
   ]
  },
  {
   "cell_type": "code",
   "execution_count": 123,
   "metadata": {
    "collapsed": true
   },
   "outputs": [],
   "source": [
    "def combine_images(images):\n",
    "    \n",
    "    num_images, _, img_rows, img_cols = images.shape \n",
    "    \n",
    "    num_images_cols = np.ceil(np.sqrt(num_images)).astype(np.int)\n",
    "    num_images_rows = np.ceil(num_images / num_images_cols).astype(np.int)\n",
    "    \n",
    "    combined_images = np.zeros((num_images_rows * img_rows, num_images_cols * img_cols))\n",
    "    \n",
    "    for i in range(num_images):\n",
    "        \n",
    "        c = i % num_images_cols\n",
    "        r = np.floor(i / num_images_cols).astype(np.int)\n",
    "        \n",
    "        combined_images[r * img_rows : (r + 1) * img_rows, c * img_cols : (c + 1) * img_cols] = images[i, 0]\n",
    "    \n",
    "    return combined_images"
   ]
  },
  {
   "cell_type": "code",
   "execution_count": 124,
   "metadata": {
    "collapsed": false
   },
   "outputs": [
    {
     "data": {
      "text/plain": [
       "<matplotlib.image.AxesImage at 0x7f008e990490>"
      ]
     },
     "execution_count": 124,
     "metadata": {},
     "output_type": "execute_result"
    },
    {
     "data": {
      "image/png": "[encoded data removed]",
      "text/plain": [
       "<matplotlib.figure.Figure at 0x7f0090d1dcd0>"
      ]
     },
     "metadata": {},
     "output_type": "display_data"
    }
   ],
   "source": [
    "num_samples = 25\n",
    "plt.imshow(combine_images(x_train[:num_samples]))\n",
    "plt.show()"
   ]
  },
  {
   "cell_type": "code",
   "execution_count": 125,
   "metadata": {
    "collapsed": false
   },
   "outputs": [
    {
     "data": {
      "text/plain": [
       "<matplotlib.image.AxesImage at 0x7f008ff24a50>"
      ]
     },
     "execution_count": 125,
     "metadata": {},
     "output_type": "execute_result"
    },
    {
     "data": {
      "image/png": "[encoded data removed]",
      "text/plain": [
       "<matplotlib.figure.Figure at 0x7f008e9978d0>"
      ]
     },
     "metadata": {},
     "output_type": "display_data"
    },
    {
     "name": "stdout",
     "output_type": "stream",
     "text": [
      "[[ 0.89327854]\n",
      " [ 0.82845938]\n",
      " [ 0.85256052]\n",
      " [ 0.79169232]\n",
      " [ 0.84220088]\n",
      " [ 0.76128554]\n",
      " [ 0.79734284]\n",
      " [ 0.92074817]\n",
      " [ 0.76633811]\n",
      " [ 0.87617153]\n",
      " [ 0.81774372]\n",
      " [ 0.80600399]\n",
      " [ 0.84601623]\n",
      " [ 0.87227249]\n",
      " [ 0.81074107]\n",
      " [ 0.81904501]\n",
      " [ 0.84930205]\n",
      " [ 0.69780433]\n",
      " [ 0.89790422]\n",
      " [ 0.86030734]\n",
      " [ 0.84953874]\n",
      " [ 0.89827526]\n",
      " [ 0.75272006]\n",
      " [ 0.83391917]\n",
      " [ 0.90472358]]\n"
     ]
    }
   ],
   "source": [
    "gen_input = np.random.uniform(-1, 1, size=(num_samples, g_input_size))\n",
    "forgery = G.model.predict(gen_input)\n",
    "\n",
    "# print np.mean(forgery)\n",
    "\n",
    "plt.imshow(combine_images(forgery))\n",
    "plt.show()\n",
    "\n",
    "print D.model.predict(forgery)"
   ]
  },
  {
   "cell_type": "code",
   "execution_count": null,
   "metadata": {
    "collapsed": true
   },
   "outputs": [],
   "source": []
  }
 ],
 "metadata": {
  "anaconda-cloud": {},
  "kernelspec": {
   "display_name": "Python [default]",
   "language": "python",
   "name": "python2"
  },
  "language_info": {
   "codemirror_mode": {
    "name": "ipython",
    "version": 2
   },
   "file_extension": ".py",
   "mimetype": "text/x-python",
   "name": "python",
   "nbconvert_exporter": "python",
   "pygments_lexer": "ipython2",
   "version": "2.7.13"
  }
 },
 "nbformat": 4,
 "nbformat_minor": 2
}
